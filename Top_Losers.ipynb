{
 "cells": [
  {
   "cell_type": "markdown",
   "id": "2a49f1c9",
   "metadata": {},
   "source": [
    "# Top 10 Loser Stocks"
   ]
  },
  {
   "cell_type": "code",
   "execution_count": 1,
   "id": "05d616d2",
   "metadata": {},
   "outputs": [],
   "source": [
    "import requests"
   ]
  },
  {
   "cell_type": "code",
   "execution_count": 2,
   "id": "0ade248f",
   "metadata": {},
   "outputs": [],
   "source": [
    "home_url = 'https://finance.yahoo.com/losers'"
   ]
  },
  {
   "cell_type": "code",
   "execution_count": 3,
   "id": "01b4310f",
   "metadata": {},
   "outputs": [],
   "source": [
    "headers = ({'User-agent' : '*****KEEP YOUR USER AGENT*****', 'Accept-Language' : 'en-US, en; q=0.5'})\n",
    "response = requests.get(home_url, headers = headers)"
   ]
  },
  {
   "cell_type": "code",
   "execution_count": 4,
   "id": "c27af2c4",
   "metadata": {},
   "outputs": [
    {
     "data": {
      "text/plain": [
       "200"
      ]
     },
     "execution_count": 4,
     "metadata": {},
     "output_type": "execute_result"
    }
   ],
   "source": [
    "response.status_code"
   ]
  },
  {
   "cell_type": "markdown",
   "id": "74dfd8a8",
   "metadata": {},
   "source": [
    "### Use Beautiful Soup to parse and extract information"
   ]
  },
  {
   "cell_type": "code",
   "execution_count": 5,
   "id": "ffdbaa42",
   "metadata": {},
   "outputs": [],
   "source": [
    "from bs4 import BeautifulSoup"
   ]
  },
  {
   "cell_type": "code",
   "execution_count": 6,
   "id": "e15d3259",
   "metadata": {},
   "outputs": [],
   "source": [
    "contents = response.text\n",
    "document = BeautifulSoup(contents, 'html.parser')"
   ]
  },
  {
   "cell_type": "code",
   "execution_count": 7,
   "id": "4dad7222",
   "metadata": {},
   "outputs": [],
   "source": [
    "class_symbol = 'Fw(600) C($linkColor)'\n",
    "top_symbol = document.find_all('a', {'class': class_symbol})"
   ]
  },
  {
   "cell_type": "code",
   "execution_count": 8,
   "id": "928fed18",
   "metadata": {},
   "outputs": [
    {
     "data": {
      "text/plain": [
       "100"
      ]
     },
     "execution_count": 8,
     "metadata": {},
     "output_type": "execute_result"
    }
   ],
   "source": [
    "len(top_symbol)"
   ]
  },
  {
   "cell_type": "code",
   "execution_count": 9,
   "id": "0170561f",
   "metadata": {},
   "outputs": [
    {
     "data": {
      "text/plain": [
       "[<a class=\"Fw(600) C($linkColor)\" data-test=\"quoteLink\" href=\"/quote/SOFI?p=SOFI\" title=\"SoFi Technologies, Inc.\">SOFI</a>,\n",
       " <a class=\"Fw(600) C($linkColor)\" data-test=\"quoteLink\" href=\"/quote/CBT?p=CBT\" title=\"Cabot Corporation\">CBT</a>,\n",
       " <a class=\"Fw(600) C($linkColor)\" data-test=\"quoteLink\" href=\"/quote/IAS?p=IAS\" title=\"Integral Ad Science Holding Corp.\">IAS</a>,\n",
       " <a class=\"Fw(600) C($linkColor)\" data-test=\"quoteLink\" href=\"/quote/PROK?p=PROK\" title=\"ProKidney Corp.\">PROK</a>,\n",
       " <a class=\"Fw(600) C($linkColor)\" data-test=\"quoteLink\" href=\"/quote/PRVA?p=PRVA\" title=\"Privia Health Group, Inc.\">PRVA</a>,\n",
       " <a class=\"Fw(600) C($linkColor)\" data-test=\"quoteLink\" href=\"/quote/AGL?p=AGL\" title=\"agilon health, inc.\">AGL</a>,\n",
       " <a class=\"Fw(600) C($linkColor)\" data-test=\"quoteLink\" href=\"/quote/LU?p=LU\" title=\"Lufax Holding Ltd\">LU</a>,\n",
       " <a class=\"Fw(600) C($linkColor)\" data-test=\"quoteLink\" href=\"/quote/NEX?p=NEX\" title=\"NexTier Oilfield Solutions Inc.\">NEX</a>,\n",
       " <a class=\"Fw(600) C($linkColor)\" data-test=\"quoteLink\" href=\"/quote/TKGBY?p=TKGBY\" title=\"Turkiye Garanti Bankasi A.S.\">TKGBY</a>,\n",
       " <a class=\"Fw(600) C($linkColor)\" data-test=\"quoteLink\" href=\"/quote/JOBY?p=JOBY\" title=\"Joby Aviation, Inc.\">JOBY</a>]"
      ]
     },
     "execution_count": 9,
     "metadata": {},
     "output_type": "execute_result"
    }
   ],
   "source": [
    "top_symbol[:10]"
   ]
  },
  {
   "cell_type": "code",
   "execution_count": 10,
   "id": "b1c10d16",
   "metadata": {},
   "outputs": [
    {
     "name": "stdout",
     "output_type": "stream",
     "text": [
      "['SOFI', 'CBT', 'IAS', 'PROK', 'PRVA', 'AGL', 'LU', 'NEX', 'TKGBY', 'JOBY', 'RUM', 'PTEN', 'VKTX', 'OLK', 'TOST', 'PRTA', 'ZI', 'AMRC', 'SMCI', 'EBR-B', 'ASAI', 'GT', 'IMVT', 'KIGRY', 'DOCN']\n"
     ]
    }
   ],
   "source": [
    "top_symbols = []\n",
    "\n",
    "for symbol in top_symbol[:25]:\n",
    "    top_symbols.append(symbol.text)\n",
    "    \n",
    "print(top_symbols)"
   ]
  },
  {
   "cell_type": "code",
   "execution_count": 11,
   "id": "4c9e3fe4",
   "metadata": {},
   "outputs": [],
   "source": [
    "name_class = 'Va(m) Ta(start) Px(10px) Fz(s)'\n",
    "top_names = document.find_all('td', {'class': name_class})"
   ]
  },
  {
   "cell_type": "code",
   "execution_count": 12,
   "id": "a6b29df3",
   "metadata": {},
   "outputs": [
    {
     "data": {
      "text/plain": [
       "100"
      ]
     },
     "execution_count": 12,
     "metadata": {},
     "output_type": "execute_result"
    }
   ],
   "source": [
    "len(top_names)"
   ]
  },
  {
   "cell_type": "code",
   "execution_count": 13,
   "id": "5627d931",
   "metadata": {},
   "outputs": [
    {
     "name": "stdout",
     "output_type": "stream",
     "text": [
      "['SoFi Technologies, Inc.', 'Cabot Corporation', 'Integral Ad Science Holding Corp.', 'ProKidney Corp.', 'Privia Health Group, Inc.', 'agilon health, inc.', 'Lufax Holding Ltd', 'NexTier Oilfield Solutions Inc.', 'Turkiye Garanti Bankasi A.S.', 'Joby Aviation, Inc.', 'Rumble Inc.', 'Patterson-UTI Energy, Inc.', 'Viking Therapeutics, Inc.', 'Olink Holding AB (publ)', 'Toast, Inc.', 'Prothena Corporation plc', 'ZoomInfo Technologies Inc.', 'Ameresco, Inc.', 'Super Micro Computer, Inc.', 'Centrais Elétricas Brasileiras S.A. - Eletrobrás', 'Sendas Distribuidora S.A.', 'The Goodyear Tire & Rubber Company', 'Immunovant, Inc.', 'KION GROUP AG', 'DigitalOcean Holdings, Inc.']\n"
     ]
    }
   ],
   "source": [
    "top_name = []\n",
    "\n",
    "for name in top_names[:25]:\n",
    "    top_name.append(name.text)\n",
    "    \n",
    "print(top_name)"
   ]
  },
  {
   "cell_type": "code",
   "execution_count": 14,
   "id": "5639babe",
   "metadata": {},
   "outputs": [
    {
     "data": {
      "text/plain": [
       "100"
      ]
     },
     "execution_count": 14,
     "metadata": {},
     "output_type": "execute_result"
    }
   ],
   "source": [
    "top_price = document.find_all('fin-streamer', {'class' : \"\", 'data-field': 'regularMarketPrice'})\n",
    "len(top_price)"
   ]
  },
  {
   "cell_type": "code",
   "execution_count": 15,
   "id": "baeb5225",
   "metadata": {},
   "outputs": [
    {
     "name": "stdout",
     "output_type": "stream",
     "text": [
      "['8.60', '68.55', '17.64', '10.40', '25.20', '17.36', '1.5600', '8.84', '1.2500', '7.40', '9.36', '11.71', '21.08', '17.81', '21.71', '68.43', '26.82', '46.55', '230.77', '8.95', '13.98', '13.57', '20.09', '8.89', '43.74']\n"
     ]
    }
   ],
   "source": [
    "top_prices = []\n",
    "\n",
    "for price in top_price[:25]:\n",
    "    top_prices.append(price.text)\n",
    "    \n",
    "print(top_prices)"
   ]
  },
  {
   "cell_type": "code",
   "execution_count": 16,
   "id": "558b84f4",
   "metadata": {},
   "outputs": [
    {
     "data": {
      "text/plain": [
       "100"
      ]
     },
     "execution_count": 16,
     "metadata": {},
     "output_type": "execute_result"
    }
   ],
   "source": [
    "top_pricechng = document.find_all('fin-streamer', {'class' : \"Fw(600)\", 'data-field' : 'regularMarketChange'})\n",
    "len(top_pricechng)"
   ]
  },
  {
   "cell_type": "code",
   "execution_count": 17,
   "id": "a0097f99",
   "metadata": {},
   "outputs": [
    {
     "name": "stdout",
     "output_type": "stream",
     "text": [
      "['-0.95', '-6.07', '-1.53', '-0.85', '-2.03', '-1.35', '-0.1200', '-0.68', '-0.0900', '-0.53', '-0.67', '-0.77', '-1.38', '-1.14', '-1.32', '-4.14', '-1.58', '-2.66', '-13.15', '-0.50', '-0.76', '-0.72', '-1.04', '-0.45', '-2.18']\n"
     ]
    }
   ],
   "source": [
    "top_pricechngs = []\n",
    "\n",
    "for chng in top_pricechng[:25]:\n",
    "    top_pricechngs.append(chng.text)\n",
    "    \n",
    "print(top_pricechngs)"
   ]
  },
  {
   "cell_type": "code",
   "execution_count": 18,
   "id": "67fa79ce",
   "metadata": {},
   "outputs": [
    {
     "data": {
      "text/plain": [
       "100"
      ]
     },
     "execution_count": 18,
     "metadata": {},
     "output_type": "execute_result"
    }
   ],
   "source": [
    "top_pricechngp = document.find_all('fin-streamer', {'class' : \"Fw(600)\", 'data-field' : 'regularMarketChangePercent'})\n",
    "len(top_pricechngp)"
   ]
  },
  {
   "cell_type": "code",
   "execution_count": 19,
   "id": "88cf990d",
   "metadata": {},
   "outputs": [
    {
     "name": "stdout",
     "output_type": "stream",
     "text": [
      "['-9.95%', '-8.13%', '-7.98%', '-7.60%', '-7.46%', '-7.22%', '-7.14%', '-7.14%', '-6.72%', '-6.68%', '-6.68%', '-6.17%', '-6.14%', '-6.02%', '-5.73%', '-5.70%', '-5.56%', '-5.41%', '-5.39%', '-5.29%', '-5.16%', '-5.04%', '-4.92%', '-4.82%', '-4.75%']\n"
     ]
    }
   ],
   "source": [
    "top_pricechngspp = []\n",
    "\n",
    "for chng in top_pricechngp[:25]:\n",
    "    top_pricechngspp.append(chng.text)\n",
    "    \n",
    "print(top_pricechngspp)"
   ]
  },
  {
   "cell_type": "code",
   "execution_count": 20,
   "id": "499a6c37",
   "metadata": {},
   "outputs": [
    {
     "data": {
      "text/plain": [
       "100"
      ]
     },
     "execution_count": 20,
     "metadata": {},
     "output_type": "execute_result"
    }
   ],
   "source": [
    "top_vol = document.find_all('fin-streamer', {'class' : \"\", 'data-field' : \"regularMarketVolume\"})\n",
    "len(top_vol)"
   ]
  },
  {
   "cell_type": "code",
   "execution_count": 21,
   "id": "91e1d980",
   "metadata": {},
   "outputs": [
    {
     "name": "stdout",
     "output_type": "stream",
     "text": [
      "['107.557M', '1.65M', '2.496M', '811,605', '3.702M', '5.283M', '16.932M', '12.808M', '28,267', '10.768M', '3.448M', '14.792M', '7.128M', '128,034', '10.599M', '1.247M', '58.349M', '624,751', '3.035M', '221,753', '1.379M', '6.533M', '3.016M', '24,216', '2.829M']\n"
     ]
    }
   ],
   "source": [
    "top_vols = []\n",
    "\n",
    "for vol in top_vol[:25]:\n",
    "    top_vols.append(vol.text)\n",
    "    \n",
    "print(top_vols)"
   ]
  },
  {
   "cell_type": "code",
   "execution_count": 22,
   "id": "b4c99156",
   "metadata": {},
   "outputs": [
    {
     "data": {
      "text/plain": [
       "100"
      ]
     },
     "execution_count": 22,
     "metadata": {},
     "output_type": "execute_result"
    }
   ],
   "source": [
    "top_cap = document.find_all('fin-streamer', {'class' : \"\", 'data-field' : \"marketCap\"})\n",
    "len(top_cap)"
   ]
  },
  {
   "cell_type": "code",
   "execution_count": 23,
   "id": "1c5d3e8c",
   "metadata": {},
   "outputs": [
    {
     "name": "stdout",
     "output_type": "stream",
     "text": [
      "['8.092B', '3.849B', '2.733B', '2.444B', '2.915B', '7.202B', '7.911B', '2.038B', '5.339B', '4.993B', '2.613B', '2.436B', '2.105B', '2.215B', '11.517B', '3.61B', '11.338B', '2.426B', '12.113B', '20.649B', '3.952B', '3.846B', '2.62B', '4.835B', '3.885B']\n"
     ]
    }
   ],
   "source": [
    "top_caps = []\n",
    "\n",
    "for cap in top_cap[:25]:\n",
    "    top_caps.append(cap.text)\n",
    "    \n",
    "print(top_caps)"
   ]
  },
  {
   "cell_type": "markdown",
   "id": "b558df09",
   "metadata": {},
   "source": [
    "### Summarizing the findings into a csv"
   ]
  },
  {
   "cell_type": "code",
   "execution_count": 24,
   "id": "689f1262",
   "metadata": {},
   "outputs": [],
   "source": [
    "import pandas as pd"
   ]
  },
  {
   "cell_type": "code",
   "execution_count": 25,
   "id": "c79fd850",
   "metadata": {},
   "outputs": [
    {
     "data": {
      "text/html": [
       "<div>\n",
       "<style scoped>\n",
       "    .dataframe tbody tr th:only-of-type {\n",
       "        vertical-align: middle;\n",
       "    }\n",
       "\n",
       "    .dataframe tbody tr th {\n",
       "        vertical-align: top;\n",
       "    }\n",
       "\n",
       "    .dataframe thead th {\n",
       "        text-align: right;\n",
       "    }\n",
       "</style>\n",
       "<table border=\"1\" class=\"dataframe\">\n",
       "  <thead>\n",
       "    <tr style=\"text-align: right;\">\n",
       "      <th></th>\n",
       "      <th>Stocks_Symbol</th>\n",
       "      <th>Stocks_Name</th>\n",
       "      <th>Stocks_Price</th>\n",
       "      <th>Stocks_Price_Change</th>\n",
       "      <th>Stocks_Percent_Change</th>\n",
       "      <th>Stocks_Volume</th>\n",
       "      <th>Stocks_Market_Capital</th>\n",
       "    </tr>\n",
       "  </thead>\n",
       "  <tbody>\n",
       "    <tr>\n",
       "      <th>0</th>\n",
       "      <td>SOFI</td>\n",
       "      <td>SoFi Technologies, Inc.</td>\n",
       "      <td>8.60</td>\n",
       "      <td>-0.95</td>\n",
       "      <td>-9.95%</td>\n",
       "      <td>107.557M</td>\n",
       "      <td>8.092B</td>\n",
       "    </tr>\n",
       "    <tr>\n",
       "      <th>1</th>\n",
       "      <td>CBT</td>\n",
       "      <td>Cabot Corporation</td>\n",
       "      <td>68.55</td>\n",
       "      <td>-6.07</td>\n",
       "      <td>-8.13%</td>\n",
       "      <td>1.65M</td>\n",
       "      <td>3.849B</td>\n",
       "    </tr>\n",
       "    <tr>\n",
       "      <th>2</th>\n",
       "      <td>IAS</td>\n",
       "      <td>Integral Ad Science Holding Corp.</td>\n",
       "      <td>17.64</td>\n",
       "      <td>-1.53</td>\n",
       "      <td>-7.98%</td>\n",
       "      <td>2.496M</td>\n",
       "      <td>2.733B</td>\n",
       "    </tr>\n",
       "    <tr>\n",
       "      <th>3</th>\n",
       "      <td>PROK</td>\n",
       "      <td>ProKidney Corp.</td>\n",
       "      <td>10.40</td>\n",
       "      <td>-0.85</td>\n",
       "      <td>-7.60%</td>\n",
       "      <td>811,605</td>\n",
       "      <td>2.444B</td>\n",
       "    </tr>\n",
       "    <tr>\n",
       "      <th>4</th>\n",
       "      <td>PRVA</td>\n",
       "      <td>Privia Health Group, Inc.</td>\n",
       "      <td>25.20</td>\n",
       "      <td>-2.03</td>\n",
       "      <td>-7.46%</td>\n",
       "      <td>3.702M</td>\n",
       "      <td>2.915B</td>\n",
       "    </tr>\n",
       "    <tr>\n",
       "      <th>5</th>\n",
       "      <td>AGL</td>\n",
       "      <td>agilon health, inc.</td>\n",
       "      <td>17.36</td>\n",
       "      <td>-1.35</td>\n",
       "      <td>-7.22%</td>\n",
       "      <td>5.283M</td>\n",
       "      <td>7.202B</td>\n",
       "    </tr>\n",
       "    <tr>\n",
       "      <th>6</th>\n",
       "      <td>LU</td>\n",
       "      <td>Lufax Holding Ltd</td>\n",
       "      <td>1.5600</td>\n",
       "      <td>-0.1200</td>\n",
       "      <td>-7.14%</td>\n",
       "      <td>16.932M</td>\n",
       "      <td>7.911B</td>\n",
       "    </tr>\n",
       "    <tr>\n",
       "      <th>7</th>\n",
       "      <td>NEX</td>\n",
       "      <td>NexTier Oilfield Solutions Inc.</td>\n",
       "      <td>8.84</td>\n",
       "      <td>-0.68</td>\n",
       "      <td>-7.14%</td>\n",
       "      <td>12.808M</td>\n",
       "      <td>2.038B</td>\n",
       "    </tr>\n",
       "    <tr>\n",
       "      <th>8</th>\n",
       "      <td>TKGBY</td>\n",
       "      <td>Turkiye Garanti Bankasi A.S.</td>\n",
       "      <td>1.2500</td>\n",
       "      <td>-0.0900</td>\n",
       "      <td>-6.72%</td>\n",
       "      <td>28,267</td>\n",
       "      <td>5.339B</td>\n",
       "    </tr>\n",
       "    <tr>\n",
       "      <th>9</th>\n",
       "      <td>JOBY</td>\n",
       "      <td>Joby Aviation, Inc.</td>\n",
       "      <td>7.40</td>\n",
       "      <td>-0.53</td>\n",
       "      <td>-6.68%</td>\n",
       "      <td>10.768M</td>\n",
       "      <td>4.993B</td>\n",
       "    </tr>\n",
       "    <tr>\n",
       "      <th>10</th>\n",
       "      <td>RUM</td>\n",
       "      <td>Rumble Inc.</td>\n",
       "      <td>9.36</td>\n",
       "      <td>-0.67</td>\n",
       "      <td>-6.68%</td>\n",
       "      <td>3.448M</td>\n",
       "      <td>2.613B</td>\n",
       "    </tr>\n",
       "    <tr>\n",
       "      <th>11</th>\n",
       "      <td>PTEN</td>\n",
       "      <td>Patterson-UTI Energy, Inc.</td>\n",
       "      <td>11.71</td>\n",
       "      <td>-0.77</td>\n",
       "      <td>-6.17%</td>\n",
       "      <td>14.792M</td>\n",
       "      <td>2.436B</td>\n",
       "    </tr>\n",
       "    <tr>\n",
       "      <th>12</th>\n",
       "      <td>VKTX</td>\n",
       "      <td>Viking Therapeutics, Inc.</td>\n",
       "      <td>21.08</td>\n",
       "      <td>-1.38</td>\n",
       "      <td>-6.14%</td>\n",
       "      <td>7.128M</td>\n",
       "      <td>2.105B</td>\n",
       "    </tr>\n",
       "    <tr>\n",
       "      <th>13</th>\n",
       "      <td>OLK</td>\n",
       "      <td>Olink Holding AB (publ)</td>\n",
       "      <td>17.81</td>\n",
       "      <td>-1.14</td>\n",
       "      <td>-6.02%</td>\n",
       "      <td>128,034</td>\n",
       "      <td>2.215B</td>\n",
       "    </tr>\n",
       "    <tr>\n",
       "      <th>14</th>\n",
       "      <td>TOST</td>\n",
       "      <td>Toast, Inc.</td>\n",
       "      <td>21.71</td>\n",
       "      <td>-1.32</td>\n",
       "      <td>-5.73%</td>\n",
       "      <td>10.599M</td>\n",
       "      <td>11.517B</td>\n",
       "    </tr>\n",
       "    <tr>\n",
       "      <th>15</th>\n",
       "      <td>PRTA</td>\n",
       "      <td>Prothena Corporation plc</td>\n",
       "      <td>68.43</td>\n",
       "      <td>-4.14</td>\n",
       "      <td>-5.70%</td>\n",
       "      <td>1.247M</td>\n",
       "      <td>3.61B</td>\n",
       "    </tr>\n",
       "    <tr>\n",
       "      <th>16</th>\n",
       "      <td>ZI</td>\n",
       "      <td>ZoomInfo Technologies Inc.</td>\n",
       "      <td>26.82</td>\n",
       "      <td>-1.58</td>\n",
       "      <td>-5.56%</td>\n",
       "      <td>58.349M</td>\n",
       "      <td>11.338B</td>\n",
       "    </tr>\n",
       "    <tr>\n",
       "      <th>17</th>\n",
       "      <td>AMRC</td>\n",
       "      <td>Ameresco, Inc.</td>\n",
       "      <td>46.55</td>\n",
       "      <td>-2.66</td>\n",
       "      <td>-5.41%</td>\n",
       "      <td>624,751</td>\n",
       "      <td>2.426B</td>\n",
       "    </tr>\n",
       "    <tr>\n",
       "      <th>18</th>\n",
       "      <td>SMCI</td>\n",
       "      <td>Super Micro Computer, Inc.</td>\n",
       "      <td>230.77</td>\n",
       "      <td>-13.15</td>\n",
       "      <td>-5.39%</td>\n",
       "      <td>3.035M</td>\n",
       "      <td>12.113B</td>\n",
       "    </tr>\n",
       "    <tr>\n",
       "      <th>19</th>\n",
       "      <td>EBR-B</td>\n",
       "      <td>Centrais Elétricas Brasileiras S.A. - Eletrobrás</td>\n",
       "      <td>8.95</td>\n",
       "      <td>-0.50</td>\n",
       "      <td>-5.29%</td>\n",
       "      <td>221,753</td>\n",
       "      <td>20.649B</td>\n",
       "    </tr>\n",
       "    <tr>\n",
       "      <th>20</th>\n",
       "      <td>ASAI</td>\n",
       "      <td>Sendas Distribuidora S.A.</td>\n",
       "      <td>13.98</td>\n",
       "      <td>-0.76</td>\n",
       "      <td>-5.16%</td>\n",
       "      <td>1.379M</td>\n",
       "      <td>3.952B</td>\n",
       "    </tr>\n",
       "    <tr>\n",
       "      <th>21</th>\n",
       "      <td>GT</td>\n",
       "      <td>The Goodyear Tire &amp; Rubber Company</td>\n",
       "      <td>13.57</td>\n",
       "      <td>-0.72</td>\n",
       "      <td>-5.04%</td>\n",
       "      <td>6.533M</td>\n",
       "      <td>3.846B</td>\n",
       "    </tr>\n",
       "    <tr>\n",
       "      <th>22</th>\n",
       "      <td>IMVT</td>\n",
       "      <td>Immunovant, Inc.</td>\n",
       "      <td>20.09</td>\n",
       "      <td>-1.04</td>\n",
       "      <td>-4.92%</td>\n",
       "      <td>3.016M</td>\n",
       "      <td>2.62B</td>\n",
       "    </tr>\n",
       "    <tr>\n",
       "      <th>23</th>\n",
       "      <td>KIGRY</td>\n",
       "      <td>KION GROUP AG</td>\n",
       "      <td>8.89</td>\n",
       "      <td>-0.45</td>\n",
       "      <td>-4.82%</td>\n",
       "      <td>24,216</td>\n",
       "      <td>4.835B</td>\n",
       "    </tr>\n",
       "    <tr>\n",
       "      <th>24</th>\n",
       "      <td>DOCN</td>\n",
       "      <td>DigitalOcean Holdings, Inc.</td>\n",
       "      <td>43.74</td>\n",
       "      <td>-2.18</td>\n",
       "      <td>-4.75%</td>\n",
       "      <td>2.829M</td>\n",
       "      <td>3.885B</td>\n",
       "    </tr>\n",
       "  </tbody>\n",
       "</table>\n",
       "</div>"
      ],
      "text/plain": [
       "   Stocks_Symbol                                       Stocks_Name  \\\n",
       "0           SOFI                           SoFi Technologies, Inc.   \n",
       "1            CBT                                 Cabot Corporation   \n",
       "2            IAS                 Integral Ad Science Holding Corp.   \n",
       "3           PROK                                   ProKidney Corp.   \n",
       "4           PRVA                         Privia Health Group, Inc.   \n",
       "5            AGL                               agilon health, inc.   \n",
       "6             LU                                 Lufax Holding Ltd   \n",
       "7            NEX                   NexTier Oilfield Solutions Inc.   \n",
       "8          TKGBY                      Turkiye Garanti Bankasi A.S.   \n",
       "9           JOBY                               Joby Aviation, Inc.   \n",
       "10           RUM                                       Rumble Inc.   \n",
       "11          PTEN                        Patterson-UTI Energy, Inc.   \n",
       "12          VKTX                         Viking Therapeutics, Inc.   \n",
       "13           OLK                           Olink Holding AB (publ)   \n",
       "14          TOST                                       Toast, Inc.   \n",
       "15          PRTA                          Prothena Corporation plc   \n",
       "16            ZI                        ZoomInfo Technologies Inc.   \n",
       "17          AMRC                                    Ameresco, Inc.   \n",
       "18          SMCI                        Super Micro Computer, Inc.   \n",
       "19         EBR-B  Centrais Elétricas Brasileiras S.A. - Eletrobrás   \n",
       "20          ASAI                         Sendas Distribuidora S.A.   \n",
       "21            GT                The Goodyear Tire & Rubber Company   \n",
       "22          IMVT                                  Immunovant, Inc.   \n",
       "23         KIGRY                                     KION GROUP AG   \n",
       "24          DOCN                       DigitalOcean Holdings, Inc.   \n",
       "\n",
       "   Stocks_Price Stocks_Price_Change Stocks_Percent_Change Stocks_Volume  \\\n",
       "0          8.60               -0.95                -9.95%      107.557M   \n",
       "1         68.55               -6.07                -8.13%         1.65M   \n",
       "2         17.64               -1.53                -7.98%        2.496M   \n",
       "3         10.40               -0.85                -7.60%       811,605   \n",
       "4         25.20               -2.03                -7.46%        3.702M   \n",
       "5         17.36               -1.35                -7.22%        5.283M   \n",
       "6        1.5600             -0.1200                -7.14%       16.932M   \n",
       "7          8.84               -0.68                -7.14%       12.808M   \n",
       "8        1.2500             -0.0900                -6.72%        28,267   \n",
       "9          7.40               -0.53                -6.68%       10.768M   \n",
       "10         9.36               -0.67                -6.68%        3.448M   \n",
       "11        11.71               -0.77                -6.17%       14.792M   \n",
       "12        21.08               -1.38                -6.14%        7.128M   \n",
       "13        17.81               -1.14                -6.02%       128,034   \n",
       "14        21.71               -1.32                -5.73%       10.599M   \n",
       "15        68.43               -4.14                -5.70%        1.247M   \n",
       "16        26.82               -1.58                -5.56%       58.349M   \n",
       "17        46.55               -2.66                -5.41%       624,751   \n",
       "18       230.77              -13.15                -5.39%        3.035M   \n",
       "19         8.95               -0.50                -5.29%       221,753   \n",
       "20        13.98               -0.76                -5.16%        1.379M   \n",
       "21        13.57               -0.72                -5.04%        6.533M   \n",
       "22        20.09               -1.04                -4.92%        3.016M   \n",
       "23         8.89               -0.45                -4.82%        24,216   \n",
       "24        43.74               -2.18                -4.75%        2.829M   \n",
       "\n",
       "   Stocks_Market_Capital  \n",
       "0                 8.092B  \n",
       "1                 3.849B  \n",
       "2                 2.733B  \n",
       "3                 2.444B  \n",
       "4                 2.915B  \n",
       "5                 7.202B  \n",
       "6                 7.911B  \n",
       "7                 2.038B  \n",
       "8                 5.339B  \n",
       "9                 4.993B  \n",
       "10                2.613B  \n",
       "11                2.436B  \n",
       "12                2.105B  \n",
       "13                2.215B  \n",
       "14               11.517B  \n",
       "15                 3.61B  \n",
       "16               11.338B  \n",
       "17                2.426B  \n",
       "18               12.113B  \n",
       "19               20.649B  \n",
       "20                3.952B  \n",
       "21                3.846B  \n",
       "22                 2.62B  \n",
       "23                4.835B  \n",
       "24                3.885B  "
      ]
     },
     "execution_count": 25,
     "metadata": {},
     "output_type": "execute_result"
    }
   ],
   "source": [
    "table_dict = {\n",
    "    'Stocks_Symbol': top_symbols,\n",
    "    'Stocks_Name' : top_name,\n",
    "    'Stocks_Price' : top_prices,\n",
    "    'Stocks_Price_Change' : top_pricechngs,\n",
    "    'Stocks_Percent_Change' : top_pricechngspp,\n",
    "    'Stocks_Volume' : top_vols,\n",
    "    'Stocks_Market_Capital' : top_caps\n",
    "}\n",
    "\n",
    "topics_df = pd.DataFrame(table_dict)\n",
    "topics_df"
   ]
  },
  {
   "cell_type": "code",
   "execution_count": 26,
   "id": "a238dad4",
   "metadata": {},
   "outputs": [],
   "source": [
    "topics_df.to_csv('Top_Loser_Stocks.csv')"
   ]
  },
  {
   "cell_type": "code",
   "execution_count": null,
   "id": "af1893e2",
   "metadata": {},
   "outputs": [],
   "source": []
  }
 ],
 "metadata": {
  "kernelspec": {
   "display_name": "Python 3",
   "language": "python",
   "name": "python3"
  },
  "language_info": {
   "codemirror_mode": {
    "name": "ipython",
    "version": 3
   },
   "file_extension": ".py",
   "mimetype": "text/x-python",
   "name": "python",
   "nbconvert_exporter": "python",
   "pygments_lexer": "ipython3",
   "version": "3.9.12"
  }
 },
 "nbformat": 4,
 "nbformat_minor": 5
}
