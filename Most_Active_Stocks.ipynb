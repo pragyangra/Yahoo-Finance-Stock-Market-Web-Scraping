{
 "cells": [
  {
   "cell_type": "markdown",
   "id": "688ed061",
   "metadata": {},
   "source": [
    "# Extracting Stock Data from Yahoo Finance"
   ]
  },
  {
   "cell_type": "markdown",
   "id": "df5ad62f",
   "metadata": {},
   "source": [
    "### Project Outline\n",
    "- Scraping data from https://finance.yahoo.com/\n",
    "- I will first extract the stock data.\n",
    "- I will then find the Top 10 most active stocks.\n",
    "- Lastly find the Top 10 Gainers and Loser."
   ]
  },
  {
   "cell_type": "code",
   "execution_count": 3,
   "id": "92f2fe4e",
   "metadata": {},
   "outputs": [],
   "source": [
    "import requests"
   ]
  },
  {
   "cell_type": "code",
   "execution_count": 4,
   "id": "91c52901",
   "metadata": {},
   "outputs": [],
   "source": [
    "home_url = 'https://finance.yahoo.com/most-active'"
   ]
  },
  {
   "cell_type": "code",
   "execution_count": 6,
   "id": "57aab8bb",
   "metadata": {},
   "outputs": [],
   "source": [
    "response = requests.get(home_url)"
   ]
  },
  {
   "cell_type": "code",
   "execution_count": 7,
   "id": "44cec4d5",
   "metadata": {},
   "outputs": [
    {
     "data": {
      "text/plain": [
       "200"
      ]
     },
     "execution_count": 7,
     "metadata": {},
     "output_type": "execute_result"
    }
   ],
   "source": [
    "response.status_code"
   ]
  },
  {
   "cell_type": "code",
   "execution_count": 8,
   "id": "a1499979",
   "metadata": {},
   "outputs": [
    {
     "data": {
      "text/plain": [
       "'<!doctype html><html data-color-theme=\"light\" id=\"atomic\" class=\"NoJs androidbrowser smartphone failsafe\" lang=\"en-US\"><head prefix=\"og: https://ogp.me/ns#\"><script>window.performance && window.performance.mark && window.performance.mark(\\'PageStart\\');</script><meta charset=\"utf-8\"><title>Most Active Stocks Today - Yahoo Finance</title><meta name=\"keywords\" content=\"Stock Screener, industry, index membership, share data, stock price, market cap, beta, sales, profitability, valuation ratios, analyst estimates, large cap value, bargain growth, preset stock screens\"><meta http-equiv=\"x-dns-prefetch-control\" content=\"on\"><meta property=\"twitter:dnt\" content=\"on\"><meta property=\"fb:app_id\" content=\"458584288257241\"><meta name=\"theme-color\" content=\"#400090\"><meta name=\"viewport\" content=\"width=device-width, initial-scale=1\"><meta name=\"description\" lang=\"en-US\" content=\"See the list of the most active stocks today, including share price change and percentage, trading volume, intraday highs a'"
      ]
     },
     "execution_count": 8,
     "metadata": {},
     "output_type": "execute_result"
    }
   ],
   "source": [
    "contents = response.text\n",
    "contents[:1000]"
   ]
  },
  {
   "cell_type": "markdown",
   "id": "c575a64e",
   "metadata": {},
   "source": [
    "### Now parse and extract information"
   ]
  },
  {
   "cell_type": "code",
   "execution_count": 9,
   "id": "fb0d89f9",
   "metadata": {},
   "outputs": [],
   "source": [
    "from bs4 import BeautifulSoup\n",
    "\n",
    "document = BeautifulSoup(contents, 'html.parser')"
   ]
  },
  {
   "cell_type": "code",
   "execution_count": 10,
   "id": "11110cbf",
   "metadata": {},
   "outputs": [],
   "source": [
    "active_class = 'Fw(600) C($linkColor)'\n",
    "most_active_tags = document.find_all('a', {'class': active_class})"
   ]
  },
  {
   "cell_type": "code",
   "execution_count": 11,
   "id": "eadb1235",
   "metadata": {},
   "outputs": [
    {
     "data": {
      "text/plain": [
       "25"
      ]
     },
     "execution_count": 11,
     "metadata": {},
     "output_type": "execute_result"
    }
   ],
   "source": [
    "len(most_active_tags)"
   ]
  },
  {
   "cell_type": "code",
   "execution_count": 12,
   "id": "aaef7dc2",
   "metadata": {},
   "outputs": [
    {
     "data": {
      "text/plain": [
       "[<a class=\"Fw(600) C($linkColor)\" data-test=\"quoteLink\" href=\"/quote/TSLA?p=TSLA\" title=\"Tesla, Inc.\">TSLA</a>,\n",
       " <a class=\"Fw(600) C($linkColor)\" data-test=\"quoteLink\" href=\"/quote/INTC?p=INTC\" title=\"Intel Corporation\">INTC</a>,\n",
       " <a class=\"Fw(600) C($linkColor)\" data-test=\"quoteLink\" href=\"/quote/SOFI?p=SOFI\" title=\"SoFi Technologies, Inc.\">SOFI</a>,\n",
       " <a class=\"Fw(600) C($linkColor)\" data-test=\"quoteLink\" href=\"/quote/AAPL?p=AAPL\" title=\"Apple Inc.\">AAPL</a>,\n",
       " <a class=\"Fw(600) C($linkColor)\" data-test=\"quoteLink\" href=\"/quote/RIVN?p=RIVN\" title=\"Rivian Automotive, Inc.\">RIVN</a>,\n",
       " <a class=\"Fw(600) C($linkColor)\" data-test=\"quoteLink\" href=\"/quote/PLTR?p=PLTR\" title=\"Palantir Technologies Inc.\">PLTR</a>,\n",
       " <a class=\"Fw(600) C($linkColor)\" data-test=\"quoteLink\" href=\"/quote/AMZN?p=AMZN\" title=\"Amazon.com, Inc.\">AMZN</a>,\n",
       " <a class=\"Fw(600) C($linkColor)\" data-test=\"quoteLink\" href=\"/quote/AMD?p=AMD\" title=\"Advanced Micro Devices, Inc.\">AMD</a>,\n",
       " <a class=\"Fw(600) C($linkColor)\" data-test=\"quoteLink\" href=\"/quote/NIO?p=NIO\" title=\"NIO Inc.\">NIO</a>,\n",
       " <a class=\"Fw(600) C($linkColor)\" data-test=\"quoteLink\" href=\"/quote/DISH?p=DISH\" title=\"DISH Network Corporation\">DISH</a>]"
      ]
     },
     "execution_count": 12,
     "metadata": {},
     "output_type": "execute_result"
    }
   ],
   "source": [
    "most_active_tags[:10]"
   ]
  },
  {
   "cell_type": "code",
   "execution_count": 13,
   "id": "c9fa0def",
   "metadata": {},
   "outputs": [
    {
     "data": {
      "text/plain": [
       "'TSLA'"
      ]
     },
     "execution_count": 13,
     "metadata": {},
     "output_type": "execute_result"
    }
   ],
   "source": [
    "most_active_tags[0].text"
   ]
  },
  {
   "cell_type": "code",
   "execution_count": 14,
   "id": "b3112e94",
   "metadata": {},
   "outputs": [
    {
     "name": "stdout",
     "output_type": "stream",
     "text": [
      "['TSLA', 'INTC', 'SOFI', 'AAPL', 'RIVN', 'PLTR', 'AMZN', 'AMD', 'NIO', 'DISH', 'F', 'NVDA', 'T', 'PFE', 'ZI', 'SIRI', 'GOOG', 'PANW', 'GPK', 'BAC', 'CCL', 'DBX', 'MSFT', 'WBD', 'GOOGL']\n"
     ]
    }
   ],
   "source": [
    "most_active_symbol = []\n",
    "\n",
    "for symbol in most_active_tags:\n",
    "    most_active_symbol.append(symbol.text)\n",
    "    \n",
    "print(most_active_symbol)"
   ]
  },
  {
   "cell_type": "code",
   "execution_count": 15,
   "id": "307d0ae7",
   "metadata": {},
   "outputs": [],
   "source": [
    "name_class = 'Va(m) Ta(start) Px(10px) Fz(s)'\n",
    "most_active_names = document.find_all('td', {'class': name_class})"
   ]
  },
  {
   "cell_type": "code",
   "execution_count": 16,
   "id": "ea5508a8",
   "metadata": {},
   "outputs": [
    {
     "data": {
      "text/plain": [
       "25"
      ]
     },
     "execution_count": 16,
     "metadata": {},
     "output_type": "execute_result"
    }
   ],
   "source": [
    "len(most_active_names)"
   ]
  },
  {
   "cell_type": "code",
   "execution_count": 17,
   "id": "96aa455e",
   "metadata": {},
   "outputs": [
    {
     "name": "stdout",
     "output_type": "stream",
     "text": [
      "['Tesla, Inc.', 'Intel Corporation', 'SoFi Technologies, Inc.', 'Apple Inc.', 'Rivian Automotive, Inc.', 'Palantir Technologies Inc.', 'Amazon.com, Inc.', 'Advanced Micro Devices, Inc.', 'NIO Inc.', 'DISH Network Corporation', 'Ford Motor Company', 'NVIDIA Corporation', 'AT&T Inc.', 'Pfizer Inc.', 'ZoomInfo Technologies Inc.', 'Sirius XM Holdings Inc.', 'Alphabet Inc.', 'Palo Alto Networks, Inc.', 'Graphic Packaging Holding Company', 'Bank of America Corporation', 'Carnival Corporation & plc', 'Dropbox, Inc.', 'Microsoft Corporation', 'Warner Bros. Discovery, Inc.', 'Alphabet Inc.']\n"
     ]
    }
   ],
   "source": [
    "most_active_name = []\n",
    "\n",
    "for name in most_active_names:\n",
    "    most_active_name.append(name.text)\n",
    "    \n",
    "print(most_active_name)"
   ]
  },
  {
   "cell_type": "code",
   "execution_count": 18,
   "id": "87c45787",
   "metadata": {},
   "outputs": [
    {
     "data": {
      "text/plain": [
       "25"
      ]
     },
     "execution_count": 18,
     "metadata": {},
     "output_type": "execute_result"
    }
   ],
   "source": [
    "\n",
    "most_active_price = document.find_all('fin-streamer', {'class' : \"\", 'data-field': 'regularMarketPrice'})\n",
    "len(most_active_price)"
   ]
  },
  {
   "cell_type": "code",
   "execution_count": 19,
   "id": "fb465878",
   "metadata": {},
   "outputs": [
    {
     "name": "stdout",
     "output_type": "stream",
     "text": [
      "260.54\n"
     ]
    }
   ],
   "source": [
    "print(most_active_price[0].text)"
   ]
  },
  {
   "cell_type": "code",
   "execution_count": 20,
   "id": "de5afd70",
   "metadata": {},
   "outputs": [
    {
     "name": "stdout",
     "output_type": "stream",
     "text": [
      "['260.54', '36.37', '8.60', '184.92', '14.88', '16.30', '125.49', '120.08', '9.40', '6.47', '14.42', '426.92', '16.06', '40.06', '26.82', '3.9400', '124.06', '246.53', '26.01', '29.19', '15.80', '25.97', '346.62', '12.80', '123.53']\n"
     ]
    }
   ],
   "source": [
    "most_active_prices = []\n",
    "\n",
    "for price in most_active_price:\n",
    "    most_active_prices.append(price.text)\n",
    "    \n",
    "print(most_active_prices)"
   ]
  },
  {
   "cell_type": "code",
   "execution_count": 21,
   "id": "9e2c0f7f",
   "metadata": {},
   "outputs": [
    {
     "data": {
      "text/plain": [
       "25"
      ]
     },
     "execution_count": 21,
     "metadata": {},
     "output_type": "execute_result"
    }
   ],
   "source": [
    "most_active_pricechng = document.find_all('fin-streamer', {'class' : \"Fw(600)\", 'data-field' : 'regularMarketChange'})\n",
    "len(most_active_pricechng)"
   ]
  },
  {
   "cell_type": "code",
   "execution_count": 22,
   "id": "3cd6633b",
   "metadata": {},
   "outputs": [
    {
     "name": "stdout",
     "output_type": "stream",
     "text": [
      "+0.55\n"
     ]
    }
   ],
   "source": [
    "print(most_active_pricechng[1].text)"
   ]
  },
  {
   "cell_type": "code",
   "execution_count": 23,
   "id": "9dcf5f15",
   "metadata": {},
   "outputs": [
    {
     "name": "stdout",
     "output_type": "stream",
     "text": [
      "['+4.64', '+0.55', '-0.95', '-1.09', '-0.36', '-0.30', '-1.62', '-4.16', '-0.39', '+0.23', '-0.03', '+0.39', '+0.03', '+0.31', '-1.58', '+0.1100', '-1.73', '+2.73', '-0.16', '-0.18', '-0.32', '+0.14', '-1.48', '-0.33', '-1.56']\n"
     ]
    }
   ],
   "source": [
    "most_active_pricechngs = []\n",
    "\n",
    "for chng in most_active_pricechng:\n",
    "    most_active_pricechngs.append(chng.text)\n",
    "    \n",
    "print(most_active_pricechngs)"
   ]
  },
  {
   "cell_type": "code",
   "execution_count": 24,
   "id": "15695c1b",
   "metadata": {},
   "outputs": [
    {
     "data": {
      "text/plain": [
       "25"
      ]
     },
     "execution_count": 24,
     "metadata": {},
     "output_type": "execute_result"
    }
   ],
   "source": [
    "most_active_pricechngp = document.find_all('fin-streamer', {'class' : \"Fw(600)\", 'data-field' : 'regularMarketChangePercent'})\n",
    "len(most_active_pricechngp)"
   ]
  },
  {
   "cell_type": "code",
   "execution_count": 25,
   "id": "c346d1fe",
   "metadata": {},
   "outputs": [
    {
     "name": "stdout",
     "output_type": "stream",
     "text": [
      "['+1.81%', '+1.54%', '-9.95%', '-0.59%', '-2.36%', '-1.81%', '-1.27%', '-3.35%', '-3.98%', '+3.69%', '-0.21%', '+0.09%', '+0.19%', '+0.78%', '-5.56%', '+2.87%', '-1.38%', '+1.12%', '-0.61%', '-0.61%', '-1.99%', '+0.54%', '-0.43%', '-2.51%', '-1.25%']\n"
     ]
    }
   ],
   "source": [
    "most_active_pricechngspp = []\n",
    "\n",
    "for chng in most_active_pricechngp:\n",
    "    most_active_pricechngspp.append(chng.text)\n",
    "    \n",
    "print(most_active_pricechngspp)"
   ]
  },
  {
   "cell_type": "code",
   "execution_count": 26,
   "id": "4e9460dc",
   "metadata": {},
   "outputs": [
    {
     "data": {
      "text/plain": [
       "25"
      ]
     },
     "execution_count": 26,
     "metadata": {},
     "output_type": "execute_result"
    }
   ],
   "source": [
    "\n",
    "most_active_vol = document.find_all('fin-streamer', {'class' : \"\", 'data-field' : \"regularMarketVolume\"})\n",
    "len(most_active_vol)"
   ]
  },
  {
   "cell_type": "code",
   "execution_count": 27,
   "id": "3ae9494d",
   "metadata": {},
   "outputs": [
    {
     "name": "stdout",
     "output_type": "stream",
     "text": [
      "['+4.64', '+0.55', '-0.95', '-1.09', '-0.36', '-0.30', '-1.62', '-4.16', '-0.39', '+0.23', '-0.03', '+0.39', '+0.03', '+0.31', '-1.58', '+0.1100', '-1.73', '+2.73', '-0.16', '-0.18', '-0.32', '+0.14', '-1.48', '-0.33', '-1.56']\n"
     ]
    }
   ],
   "source": [
    "most_active_pricechngs = []\n",
    "\n",
    "for chng in most_active_pricechng:\n",
    "    most_active_pricechngs.append(chng.text)\n",
    "    \n",
    "print(most_active_pricechngs)"
   ]
  },
  {
   "cell_type": "code",
   "execution_count": 28,
   "id": "056da337",
   "metadata": {},
   "outputs": [
    {
     "name": "stdout",
     "output_type": "stream",
     "text": [
      "['167.916M', '110.24M', '107.557M', '101.256M', '92.23M', '90.696M', '84.247M', '82.007M', '81.4M', '79.289M', '75.398M', '65.571M', '64.149M', '60.339M', '58.349M', '57.974M', '56.699M', '54.823M', '53.235M', '53.05M', '51.112M', '47.223M', '46.552M', '46.121M', '45.536M']\n"
     ]
    }
   ],
   "source": [
    "most_active_vols = []\n",
    "\n",
    "for vol in most_active_vol:\n",
    "    most_active_vols.append(vol.text)\n",
    "    \n",
    "print(most_active_vols)"
   ]
  },
  {
   "cell_type": "code",
   "execution_count": 29,
   "id": "c6667136",
   "metadata": {},
   "outputs": [
    {
     "data": {
      "text/plain": [
       "25"
      ]
     },
     "execution_count": 29,
     "metadata": {},
     "output_type": "execute_result"
    }
   ],
   "source": [
    "\n",
    "most_active_cap = document.find_all('fin-streamer', {'class' : \"\", 'data-field' : \"marketCap\"})\n",
    "len(most_active_cap)"
   ]
  },
  {
   "cell_type": "code",
   "execution_count": 30,
   "id": "ad6167fa",
   "metadata": {},
   "outputs": [
    {
     "name": "stdout",
     "output_type": "stream",
     "text": [
      "['825.782B', '151.699B', '8.092B', '2.909T', '13.977B', '34.531B', '1.288T', '193.372B', '16.785B', '3.446B', '57.691B', '1.054T', '114.813B', '226.151B', '11.338B', '15.241B', '1.571T', '75.402B', '7.989B', '232.619B', '20.585B', '9.081B', '2.577T', '31.182B', '1.572T']\n"
     ]
    }
   ],
   "source": [
    "most_active_caps = []\n",
    "\n",
    "for cap in most_active_cap:\n",
    "    most_active_caps.append(cap.text)\n",
    "    \n",
    "print(most_active_caps)"
   ]
  },
  {
   "cell_type": "markdown",
   "id": "9690f48e",
   "metadata": {},
   "source": [
    "### Summarizing the findings into a csv"
   ]
  },
  {
   "cell_type": "code",
   "execution_count": 31,
   "id": "d115044e",
   "metadata": {},
   "outputs": [],
   "source": [
    "import pandas as pd"
   ]
  },
  {
   "cell_type": "code",
   "execution_count": 32,
   "id": "6cdeb458",
   "metadata": {},
   "outputs": [
    {
     "data": {
      "text/html": [
       "<div>\n",
       "<style scoped>\n",
       "    .dataframe tbody tr th:only-of-type {\n",
       "        vertical-align: middle;\n",
       "    }\n",
       "\n",
       "    .dataframe tbody tr th {\n",
       "        vertical-align: top;\n",
       "    }\n",
       "\n",
       "    .dataframe thead th {\n",
       "        text-align: right;\n",
       "    }\n",
       "</style>\n",
       "<table border=\"1\" class=\"dataframe\">\n",
       "  <thead>\n",
       "    <tr style=\"text-align: right;\">\n",
       "      <th></th>\n",
       "      <th>Stocks_Symbol</th>\n",
       "      <th>Stocks_Name</th>\n",
       "      <th>Stocks_Price</th>\n",
       "      <th>Stocks_Price_Change</th>\n",
       "      <th>Stocks_Percent_Change</th>\n",
       "      <th>Stocks_Volume</th>\n",
       "      <th>Stocks_Market_Capital</th>\n",
       "    </tr>\n",
       "  </thead>\n",
       "  <tbody>\n",
       "    <tr>\n",
       "      <th>0</th>\n",
       "      <td>TSLA</td>\n",
       "      <td>Tesla, Inc.</td>\n",
       "      <td>260.54</td>\n",
       "      <td>+4.64</td>\n",
       "      <td>+1.81%</td>\n",
       "      <td>167.916M</td>\n",
       "      <td>825.782B</td>\n",
       "    </tr>\n",
       "    <tr>\n",
       "      <th>1</th>\n",
       "      <td>INTC</td>\n",
       "      <td>Intel Corporation</td>\n",
       "      <td>36.37</td>\n",
       "      <td>+0.55</td>\n",
       "      <td>+1.54%</td>\n",
       "      <td>110.24M</td>\n",
       "      <td>151.699B</td>\n",
       "    </tr>\n",
       "    <tr>\n",
       "      <th>2</th>\n",
       "      <td>SOFI</td>\n",
       "      <td>SoFi Technologies, Inc.</td>\n",
       "      <td>8.60</td>\n",
       "      <td>-0.95</td>\n",
       "      <td>-9.95%</td>\n",
       "      <td>107.557M</td>\n",
       "      <td>8.092B</td>\n",
       "    </tr>\n",
       "    <tr>\n",
       "      <th>3</th>\n",
       "      <td>AAPL</td>\n",
       "      <td>Apple Inc.</td>\n",
       "      <td>184.92</td>\n",
       "      <td>-1.09</td>\n",
       "      <td>-0.59%</td>\n",
       "      <td>101.256M</td>\n",
       "      <td>2.909T</td>\n",
       "    </tr>\n",
       "    <tr>\n",
       "      <th>4</th>\n",
       "      <td>RIVN</td>\n",
       "      <td>Rivian Automotive, Inc.</td>\n",
       "      <td>14.88</td>\n",
       "      <td>-0.36</td>\n",
       "      <td>-2.36%</td>\n",
       "      <td>92.23M</td>\n",
       "      <td>13.977B</td>\n",
       "    </tr>\n",
       "    <tr>\n",
       "      <th>5</th>\n",
       "      <td>PLTR</td>\n",
       "      <td>Palantir Technologies Inc.</td>\n",
       "      <td>16.30</td>\n",
       "      <td>-0.30</td>\n",
       "      <td>-1.81%</td>\n",
       "      <td>90.696M</td>\n",
       "      <td>34.531B</td>\n",
       "    </tr>\n",
       "    <tr>\n",
       "      <th>6</th>\n",
       "      <td>AMZN</td>\n",
       "      <td>Amazon.com, Inc.</td>\n",
       "      <td>125.49</td>\n",
       "      <td>-1.62</td>\n",
       "      <td>-1.27%</td>\n",
       "      <td>84.247M</td>\n",
       "      <td>1.288T</td>\n",
       "    </tr>\n",
       "    <tr>\n",
       "      <th>7</th>\n",
       "      <td>AMD</td>\n",
       "      <td>Advanced Micro Devices, Inc.</td>\n",
       "      <td>120.08</td>\n",
       "      <td>-4.16</td>\n",
       "      <td>-3.35%</td>\n",
       "      <td>82.007M</td>\n",
       "      <td>193.372B</td>\n",
       "    </tr>\n",
       "    <tr>\n",
       "      <th>8</th>\n",
       "      <td>NIO</td>\n",
       "      <td>NIO Inc.</td>\n",
       "      <td>9.40</td>\n",
       "      <td>-0.39</td>\n",
       "      <td>-3.98%</td>\n",
       "      <td>81.4M</td>\n",
       "      <td>16.785B</td>\n",
       "    </tr>\n",
       "    <tr>\n",
       "      <th>9</th>\n",
       "      <td>DISH</td>\n",
       "      <td>DISH Network Corporation</td>\n",
       "      <td>6.47</td>\n",
       "      <td>+0.23</td>\n",
       "      <td>+3.69%</td>\n",
       "      <td>79.289M</td>\n",
       "      <td>3.446B</td>\n",
       "    </tr>\n",
       "    <tr>\n",
       "      <th>10</th>\n",
       "      <td>F</td>\n",
       "      <td>Ford Motor Company</td>\n",
       "      <td>14.42</td>\n",
       "      <td>-0.03</td>\n",
       "      <td>-0.21%</td>\n",
       "      <td>75.398M</td>\n",
       "      <td>57.691B</td>\n",
       "    </tr>\n",
       "    <tr>\n",
       "      <th>11</th>\n",
       "      <td>NVDA</td>\n",
       "      <td>NVIDIA Corporation</td>\n",
       "      <td>426.92</td>\n",
       "      <td>+0.39</td>\n",
       "      <td>+0.09%</td>\n",
       "      <td>65.571M</td>\n",
       "      <td>1.054T</td>\n",
       "    </tr>\n",
       "    <tr>\n",
       "      <th>12</th>\n",
       "      <td>T</td>\n",
       "      <td>AT&amp;T Inc.</td>\n",
       "      <td>16.06</td>\n",
       "      <td>+0.03</td>\n",
       "      <td>+0.19%</td>\n",
       "      <td>64.149M</td>\n",
       "      <td>114.813B</td>\n",
       "    </tr>\n",
       "    <tr>\n",
       "      <th>13</th>\n",
       "      <td>PFE</td>\n",
       "      <td>Pfizer Inc.</td>\n",
       "      <td>40.06</td>\n",
       "      <td>+0.31</td>\n",
       "      <td>+0.78%</td>\n",
       "      <td>60.339M</td>\n",
       "      <td>226.151B</td>\n",
       "    </tr>\n",
       "    <tr>\n",
       "      <th>14</th>\n",
       "      <td>ZI</td>\n",
       "      <td>ZoomInfo Technologies Inc.</td>\n",
       "      <td>26.82</td>\n",
       "      <td>-1.58</td>\n",
       "      <td>-5.56%</td>\n",
       "      <td>58.349M</td>\n",
       "      <td>11.338B</td>\n",
       "    </tr>\n",
       "    <tr>\n",
       "      <th>15</th>\n",
       "      <td>SIRI</td>\n",
       "      <td>Sirius XM Holdings Inc.</td>\n",
       "      <td>3.9400</td>\n",
       "      <td>+0.1100</td>\n",
       "      <td>+2.87%</td>\n",
       "      <td>57.974M</td>\n",
       "      <td>15.241B</td>\n",
       "    </tr>\n",
       "    <tr>\n",
       "      <th>16</th>\n",
       "      <td>GOOG</td>\n",
       "      <td>Alphabet Inc.</td>\n",
       "      <td>124.06</td>\n",
       "      <td>-1.73</td>\n",
       "      <td>-1.38%</td>\n",
       "      <td>56.699M</td>\n",
       "      <td>1.571T</td>\n",
       "    </tr>\n",
       "    <tr>\n",
       "      <th>17</th>\n",
       "      <td>PANW</td>\n",
       "      <td>Palo Alto Networks, Inc.</td>\n",
       "      <td>246.53</td>\n",
       "      <td>+2.73</td>\n",
       "      <td>+1.12%</td>\n",
       "      <td>54.823M</td>\n",
       "      <td>75.402B</td>\n",
       "    </tr>\n",
       "    <tr>\n",
       "      <th>18</th>\n",
       "      <td>GPK</td>\n",
       "      <td>Graphic Packaging Holding Company</td>\n",
       "      <td>26.01</td>\n",
       "      <td>-0.16</td>\n",
       "      <td>-0.61%</td>\n",
       "      <td>53.235M</td>\n",
       "      <td>7.989B</td>\n",
       "    </tr>\n",
       "    <tr>\n",
       "      <th>19</th>\n",
       "      <td>BAC</td>\n",
       "      <td>Bank of America Corporation</td>\n",
       "      <td>29.19</td>\n",
       "      <td>-0.18</td>\n",
       "      <td>-0.61%</td>\n",
       "      <td>53.05M</td>\n",
       "      <td>232.619B</td>\n",
       "    </tr>\n",
       "    <tr>\n",
       "      <th>20</th>\n",
       "      <td>CCL</td>\n",
       "      <td>Carnival Corporation &amp; plc</td>\n",
       "      <td>15.80</td>\n",
       "      <td>-0.32</td>\n",
       "      <td>-1.99%</td>\n",
       "      <td>51.112M</td>\n",
       "      <td>20.585B</td>\n",
       "    </tr>\n",
       "    <tr>\n",
       "      <th>21</th>\n",
       "      <td>DBX</td>\n",
       "      <td>Dropbox, Inc.</td>\n",
       "      <td>25.97</td>\n",
       "      <td>+0.14</td>\n",
       "      <td>+0.54%</td>\n",
       "      <td>47.223M</td>\n",
       "      <td>9.081B</td>\n",
       "    </tr>\n",
       "    <tr>\n",
       "      <th>22</th>\n",
       "      <td>MSFT</td>\n",
       "      <td>Microsoft Corporation</td>\n",
       "      <td>346.62</td>\n",
       "      <td>-1.48</td>\n",
       "      <td>-0.43%</td>\n",
       "      <td>46.552M</td>\n",
       "      <td>2.577T</td>\n",
       "    </tr>\n",
       "    <tr>\n",
       "      <th>23</th>\n",
       "      <td>WBD</td>\n",
       "      <td>Warner Bros. Discovery, Inc.</td>\n",
       "      <td>12.80</td>\n",
       "      <td>-0.33</td>\n",
       "      <td>-2.51%</td>\n",
       "      <td>46.121M</td>\n",
       "      <td>31.182B</td>\n",
       "    </tr>\n",
       "    <tr>\n",
       "      <th>24</th>\n",
       "      <td>GOOGL</td>\n",
       "      <td>Alphabet Inc.</td>\n",
       "      <td>123.53</td>\n",
       "      <td>-1.56</td>\n",
       "      <td>-1.25%</td>\n",
       "      <td>45.536M</td>\n",
       "      <td>1.572T</td>\n",
       "    </tr>\n",
       "  </tbody>\n",
       "</table>\n",
       "</div>"
      ],
      "text/plain": [
       "   Stocks_Symbol                        Stocks_Name Stocks_Price  \\\n",
       "0           TSLA                        Tesla, Inc.       260.54   \n",
       "1           INTC                  Intel Corporation        36.37   \n",
       "2           SOFI            SoFi Technologies, Inc.         8.60   \n",
       "3           AAPL                         Apple Inc.       184.92   \n",
       "4           RIVN            Rivian Automotive, Inc.        14.88   \n",
       "5           PLTR         Palantir Technologies Inc.        16.30   \n",
       "6           AMZN                   Amazon.com, Inc.       125.49   \n",
       "7            AMD       Advanced Micro Devices, Inc.       120.08   \n",
       "8            NIO                           NIO Inc.         9.40   \n",
       "9           DISH           DISH Network Corporation         6.47   \n",
       "10             F                 Ford Motor Company        14.42   \n",
       "11          NVDA                 NVIDIA Corporation       426.92   \n",
       "12             T                          AT&T Inc.        16.06   \n",
       "13           PFE                        Pfizer Inc.        40.06   \n",
       "14            ZI         ZoomInfo Technologies Inc.        26.82   \n",
       "15          SIRI            Sirius XM Holdings Inc.       3.9400   \n",
       "16          GOOG                      Alphabet Inc.       124.06   \n",
       "17          PANW           Palo Alto Networks, Inc.       246.53   \n",
       "18           GPK  Graphic Packaging Holding Company        26.01   \n",
       "19           BAC        Bank of America Corporation        29.19   \n",
       "20           CCL         Carnival Corporation & plc        15.80   \n",
       "21           DBX                      Dropbox, Inc.        25.97   \n",
       "22          MSFT              Microsoft Corporation       346.62   \n",
       "23           WBD       Warner Bros. Discovery, Inc.        12.80   \n",
       "24         GOOGL                      Alphabet Inc.       123.53   \n",
       "\n",
       "   Stocks_Price_Change Stocks_Percent_Change Stocks_Volume  \\\n",
       "0                +4.64                +1.81%      167.916M   \n",
       "1                +0.55                +1.54%       110.24M   \n",
       "2                -0.95                -9.95%      107.557M   \n",
       "3                -1.09                -0.59%      101.256M   \n",
       "4                -0.36                -2.36%        92.23M   \n",
       "5                -0.30                -1.81%       90.696M   \n",
       "6                -1.62                -1.27%       84.247M   \n",
       "7                -4.16                -3.35%       82.007M   \n",
       "8                -0.39                -3.98%         81.4M   \n",
       "9                +0.23                +3.69%       79.289M   \n",
       "10               -0.03                -0.21%       75.398M   \n",
       "11               +0.39                +0.09%       65.571M   \n",
       "12               +0.03                +0.19%       64.149M   \n",
       "13               +0.31                +0.78%       60.339M   \n",
       "14               -1.58                -5.56%       58.349M   \n",
       "15             +0.1100                +2.87%       57.974M   \n",
       "16               -1.73                -1.38%       56.699M   \n",
       "17               +2.73                +1.12%       54.823M   \n",
       "18               -0.16                -0.61%       53.235M   \n",
       "19               -0.18                -0.61%        53.05M   \n",
       "20               -0.32                -1.99%       51.112M   \n",
       "21               +0.14                +0.54%       47.223M   \n",
       "22               -1.48                -0.43%       46.552M   \n",
       "23               -0.33                -2.51%       46.121M   \n",
       "24               -1.56                -1.25%       45.536M   \n",
       "\n",
       "   Stocks_Market_Capital  \n",
       "0               825.782B  \n",
       "1               151.699B  \n",
       "2                 8.092B  \n",
       "3                 2.909T  \n",
       "4                13.977B  \n",
       "5                34.531B  \n",
       "6                 1.288T  \n",
       "7               193.372B  \n",
       "8                16.785B  \n",
       "9                 3.446B  \n",
       "10               57.691B  \n",
       "11                1.054T  \n",
       "12              114.813B  \n",
       "13              226.151B  \n",
       "14               11.338B  \n",
       "15               15.241B  \n",
       "16                1.571T  \n",
       "17               75.402B  \n",
       "18                7.989B  \n",
       "19              232.619B  \n",
       "20               20.585B  \n",
       "21                9.081B  \n",
       "22                2.577T  \n",
       "23               31.182B  \n",
       "24                1.572T  "
      ]
     },
     "execution_count": 32,
     "metadata": {},
     "output_type": "execute_result"
    }
   ],
   "source": [
    "table_dict = {\n",
    "    'Stocks_Symbol': most_active_symbol,\n",
    "    'Stocks_Name' : most_active_name,\n",
    "    'Stocks_Price' : most_active_prices,\n",
    "    'Stocks_Price_Change' : most_active_pricechngs,\n",
    "    'Stocks_Percent_Change' : most_active_pricechngspp,\n",
    "    'Stocks_Volume' : most_active_vols,\n",
    "    'Stocks_Market_Capital' : most_active_caps\n",
    "}\n",
    "\n",
    "topics_df = pd.DataFrame(table_dict)\n",
    "topics_df"
   ]
  },
  {
   "cell_type": "code",
   "execution_count": 34,
   "id": "f466bd38",
   "metadata": {},
   "outputs": [],
   "source": [
    "topics_df.to_csv('Most_Active_Stocks.csv')"
   ]
  },
  {
   "cell_type": "code",
   "execution_count": null,
   "id": "a5effe67",
   "metadata": {},
   "outputs": [],
   "source": []
  }
 ],
 "metadata": {
  "kernelspec": {
   "display_name": "Python 3",
   "language": "python",
   "name": "python3"
  },
  "language_info": {
   "codemirror_mode": {
    "name": "ipython",
    "version": 3
   },
   "file_extension": ".py",
   "mimetype": "text/x-python",
   "name": "python",
   "nbconvert_exporter": "python",
   "pygments_lexer": "ipython3",
   "version": "3.9.12"
  }
 },
 "nbformat": 4,
 "nbformat_minor": 5
}
