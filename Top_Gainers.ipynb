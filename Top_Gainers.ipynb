{
 "cells": [
  {
   "cell_type": "markdown",
   "id": "d88a7f0c",
   "metadata": {},
   "source": [
    "# Top 10 Gainer Stocks"
   ]
  },
  {
   "cell_type": "code",
   "execution_count": 1,
   "id": "4b1c1b51",
   "metadata": {},
   "outputs": [],
   "source": [
    "import requests"
   ]
  },
  {
   "cell_type": "code",
   "execution_count": 2,
   "id": "e7fb49f2",
   "metadata": {},
   "outputs": [],
   "source": [
    "home_url = 'https://finance.yahoo.com/gainers'"
   ]
  },
  {
   "cell_type": "code",
   "execution_count": 3,
   "id": "c248ceac",
   "metadata": {},
   "outputs": [],
   "source": [
    "headers = ({'User-agent' : '*****KEEP YOUR USER AGENT*****', 'Accept-Language' : 'en-US, en; q=0.5'})\n",
    "response = requests.get(home_url, headers = headers)"
   ]
  },
  {
   "cell_type": "code",
   "execution_count": 4,
   "id": "8855e092",
   "metadata": {},
   "outputs": [
    {
     "data": {
      "text/plain": [
       "200"
      ]
     },
     "execution_count": 4,
     "metadata": {},
     "output_type": "execute_result"
    }
   ],
   "source": [
    "response.status_code"
   ]
  },
  {
   "cell_type": "markdown",
   "id": "ec83480d",
   "metadata": {},
   "source": [
    "### Use Beautiful Soup to parse and extract information"
   ]
  },
  {
   "cell_type": "code",
   "execution_count": 6,
   "id": "16191d36",
   "metadata": {},
   "outputs": [],
   "source": [
    "from bs4 import BeautifulSoup"
   ]
  },
  {
   "cell_type": "code",
   "execution_count": 7,
   "id": "6b1d69a5",
   "metadata": {},
   "outputs": [],
   "source": [
    "contents = response.text\n",
    "document = BeautifulSoup(contents, 'html.parser')"
   ]
  },
  {
   "cell_type": "code",
   "execution_count": 8,
   "id": "4fa38c6f",
   "metadata": {},
   "outputs": [],
   "source": [
    "class_symbol = 'Fw(600) C($linkColor)'\n",
    "top_symbol = document.find_all('a', {'class': class_symbol})"
   ]
  },
  {
   "cell_type": "code",
   "execution_count": 9,
   "id": "53495195",
   "metadata": {},
   "outputs": [
    {
     "data": {
      "text/plain": [
       "68"
      ]
     },
     "execution_count": 9,
     "metadata": {},
     "output_type": "execute_result"
    }
   ],
   "source": [
    "len(top_symbol)"
   ]
  },
  {
   "cell_type": "code",
   "execution_count": 10,
   "id": "3866ffa0",
   "metadata": {},
   "outputs": [
    {
     "data": {
      "text/plain": [
       "[<a class=\"Fw(600) C($linkColor)\" data-test=\"quoteLink\" href=\"/quote/NCNO?p=NCNO\" title=\"nCino, Inc.\">NCNO</a>,\n",
       " <a class=\"Fw(600) C($linkColor)\" data-test=\"quoteLink\" href=\"/quote/ABCM?p=ABCM\" title=\"Abcam plc\">ABCM</a>,\n",
       " <a class=\"Fw(600) C($linkColor)\" data-test=\"quoteLink\" href=\"/quote/SMSOF?p=SMSOF\" title=\"Samsonite International S.A.\">SMSOF</a>,\n",
       " <a class=\"Fw(600) C($linkColor)\" data-test=\"quoteLink\" href=\"/quote/CHFLF?p=CHFLF\" title=\"China Feihe Limited\">CHFLF</a>,\n",
       " <a class=\"Fw(600) C($linkColor)\" data-test=\"quoteLink\" href=\"/quote/ECX?p=ECX\" title=\"ECARX Holdings Inc.\">ECX</a>,\n",
       " <a class=\"Fw(600) C($linkColor)\" data-test=\"quoteLink\" href=\"/quote/ENVX?p=ENVX\" title=\"Enovix Corporation\">ENVX</a>,\n",
       " <a class=\"Fw(600) C($linkColor)\" data-test=\"quoteLink\" href=\"/quote/XNYIF?p=XNYIF\" title=\"Xinyi Solar Holdings Limited\">XNYIF</a>,\n",
       " <a class=\"Fw(600) C($linkColor)\" data-test=\"quoteLink\" href=\"/quote/OCDGF?p=OCDGF\" title=\"Ocado Group plc\">OCDGF</a>,\n",
       " <a class=\"Fw(600) C($linkColor)\" data-test=\"quoteLink\" href=\"/quote/LTMAY?p=LTMAY\" title=\"LATAM Airlines Group S.A.\">LTMAY</a>,\n",
       " <a class=\"Fw(600) C($linkColor)\" data-test=\"quoteLink\" href=\"/quote/LINRF?p=LINRF\" title=\"Liontown Resources Limited\">LINRF</a>]"
      ]
     },
     "execution_count": 10,
     "metadata": {},
     "output_type": "execute_result"
    }
   ],
   "source": [
    "top_symbol[:10]"
   ]
  },
  {
   "cell_type": "code",
   "execution_count": 12,
   "id": "9c9445f1",
   "metadata": {},
   "outputs": [
    {
     "name": "stdout",
     "output_type": "stream",
     "text": [
      "['NCNO', 'ABCM', 'SMSOF', 'CHFLF', 'ECX', 'ENVX', 'XNYIF', 'OCDGF', 'LTMAY', 'LINRF', 'YPF', 'OCDDY', 'BALL', 'WZZZY', 'PAM', 'TGS', 'GLW', 'GGAL', 'PSNYW', 'MSTR', 'HCM', 'AMPH', 'SYM', 'SPOT', 'STVN']\n"
     ]
    }
   ],
   "source": [
    "top_symbols = []\n",
    "\n",
    "for symbol in top_symbol[:25]:\n",
    "    top_symbols.append(symbol.text)\n",
    "    \n",
    "print(top_symbols)"
   ]
  },
  {
   "cell_type": "code",
   "execution_count": 13,
   "id": "9e735613",
   "metadata": {},
   "outputs": [],
   "source": [
    "name_class = 'Va(m) Ta(start) Px(10px) Fz(s)'\n",
    "top_names = document.find_all('td', {'class': name_class})"
   ]
  },
  {
   "cell_type": "code",
   "execution_count": 14,
   "id": "5525712d",
   "metadata": {},
   "outputs": [
    {
     "data": {
      "text/plain": [
       "68"
      ]
     },
     "execution_count": 14,
     "metadata": {},
     "output_type": "execute_result"
    }
   ],
   "source": [
    "len(top_names)"
   ]
  },
  {
   "cell_type": "code",
   "execution_count": 16,
   "id": "3b702306",
   "metadata": {},
   "outputs": [
    {
     "name": "stdout",
     "output_type": "stream",
     "text": [
      "['nCino, Inc.', 'Abcam plc', 'Samsonite International S.A.', 'China Feihe Limited', 'ECARX Holdings Inc.', 'Enovix Corporation', 'Xinyi Solar Holdings Limited', 'Ocado Group plc', 'LATAM Airlines Group S.A.', 'Liontown Resources Limited', 'YPF Sociedad Anónima', 'Ocado Group plc', 'Ball Corporation', 'Wizz Air Holdings Plc', 'Pampa Energía S.A.', 'Transportadora de Gas del Sur S.A.', 'Corning Incorporated', 'Grupo Financiero Galicia S.A.', 'Polestar Automotive Holding UK PLC', 'MicroStrategy Incorporated', 'HUTCHMED (China) Limited', 'Amphastar Pharmaceuticals, Inc.', 'Symbotic Inc.', 'Spotify Technology S.A.', 'Stevanato Group S.p.A.']\n"
     ]
    }
   ],
   "source": [
    "top_name = []\n",
    "\n",
    "for name in top_names[:25]:\n",
    "    top_name.append(name.text)\n",
    "    \n",
    "print(top_name)"
   ]
  },
  {
   "cell_type": "code",
   "execution_count": 17,
   "id": "5150c297",
   "metadata": {},
   "outputs": [
    {
     "data": {
      "text/plain": [
       "68"
      ]
     },
     "execution_count": 17,
     "metadata": {},
     "output_type": "execute_result"
    }
   ],
   "source": [
    "top_price = document.find_all('fin-streamer', {'class' : \"\", 'data-field': 'regularMarketPrice'})\n",
    "len(top_price)"
   ]
  },
  {
   "cell_type": "code",
   "execution_count": 18,
   "id": "07fae15c",
   "metadata": {},
   "outputs": [
    {
     "name": "stdout",
     "output_type": "stream",
     "text": [
      "['31.69', '22.31', '2.9400', '0.6209', '8.30', '15.12', '1.2399', '6.04', '0.4400', '2.1700', '14.55', '11.82', '58.43', '9.65', '40.91', '13.32', '35.85', '16.87', '0.7250', '293.39', '13.91', '55.03', '51.22', '159.99', '32.37']\n"
     ]
    }
   ],
   "source": [
    "top_prices = []\n",
    "\n",
    "for price in top_price[:25]:\n",
    "    top_prices.append(price.text)\n",
    "    \n",
    "print(top_prices)"
   ]
  },
  {
   "cell_type": "code",
   "execution_count": 19,
   "id": "b0fa058c",
   "metadata": {},
   "outputs": [
    {
     "data": {
      "text/plain": [
       "68"
      ]
     },
     "execution_count": 19,
     "metadata": {},
     "output_type": "execute_result"
    }
   ],
   "source": [
    "top_pricechng = document.find_all('fin-streamer', {'class' : \"Fw(600)\", 'data-field' : 'regularMarketChange'})\n",
    "len(top_pricechng)"
   ]
  },
  {
   "cell_type": "code",
   "execution_count": 20,
   "id": "158b436d",
   "metadata": {},
   "outputs": [
    {
     "name": "stdout",
     "output_type": "stream",
     "text": [
      "['+6.23', '+3.25', '+0.3400', '+0.0666', '+0.87', '+1.49', '+0.1200', '+0.49', '+0.0350', '+0.1700', '+1.10', '+0.85', '+3.94', '+0.65', '+2.57', '+0.79', '+2.01', '+0.92', '+0.0250', '+15.47', '+0.71', '+2.80', '+2.58', '+7.81', '+1.55']\n"
     ]
    }
   ],
   "source": [
    "top_pricechngs = []\n",
    "\n",
    "for chng in top_pricechng[:25]:\n",
    "    top_pricechngs.append(chng.text)\n",
    "    \n",
    "print(top_pricechngs)"
   ]
  },
  {
   "cell_type": "code",
   "execution_count": 21,
   "id": "82f15987",
   "metadata": {},
   "outputs": [
    {
     "data": {
      "text/plain": [
       "68"
      ]
     },
     "execution_count": 21,
     "metadata": {},
     "output_type": "execute_result"
    }
   ],
   "source": [
    "top_pricechngp = document.find_all('fin-streamer', {'class' : \"Fw(600)\", 'data-field' : 'regularMarketChangePercent'})\n",
    "len(top_pricechngp)"
   ]
  },
  {
   "cell_type": "code",
   "execution_count": 23,
   "id": "fbeb3b8a",
   "metadata": {},
   "outputs": [
    {
     "name": "stdout",
     "output_type": "stream",
     "text": [
      "['+24.47%', '+17.05%', '+13.08%', '+12.03%', '+11.71%', '+10.93%', '+10.72%', '+8.83%', '+8.64%', '+8.50%', '+8.18%', '+7.75%', '+7.23%', '+7.22%', '+6.70%', '+6.30%', '+5.94%', '+5.73%', '+3.57%', '+5.57%', '+5.38%', '+5.36%', '+5.30%', '+5.13%', '+5.03%']\n"
     ]
    }
   ],
   "source": [
    "top_pricechngspp = []\n",
    "\n",
    "for chng in top_pricechngp[:25]:\n",
    "    top_pricechngspp.append(chng.text)\n",
    "    \n",
    "print(top_pricechngspp)"
   ]
  },
  {
   "cell_type": "code",
   "execution_count": 24,
   "id": "5a758507",
   "metadata": {},
   "outputs": [
    {
     "data": {
      "text/plain": [
       "68"
      ]
     },
     "execution_count": 24,
     "metadata": {},
     "output_type": "execute_result"
    }
   ],
   "source": [
    "top_vol = document.find_all('fin-streamer', {'class' : \"\", 'data-field' : \"regularMarketVolume\"})\n",
    "len(top_vol)"
   ]
  },
  {
   "cell_type": "code",
   "execution_count": 26,
   "id": "d9d107ff",
   "metadata": {},
   "outputs": [
    {
     "name": "stdout",
     "output_type": "stream",
     "text": [
      "['8.206M', '4.762M', '17,100', '24,493', '499,944', '19.342M', '61,314', '67,404', '750,412', '34,382', '4.698M', '47,157', '11.573M', '47,859', '372,566', '313,621', '21.263M', '1.72M', '140,428', '1.423M', '237,646', '1.25M', '1.931M', '3.533M', '800,576']\n"
     ]
    }
   ],
   "source": [
    "top_vols = []\n",
    "\n",
    "for vol in top_vol[:25]:\n",
    "    top_vols.append(vol.text)\n",
    "    \n",
    "print(top_vols)"
   ]
  },
  {
   "cell_type": "code",
   "execution_count": 27,
   "id": "e33d0a63",
   "metadata": {},
   "outputs": [
    {
     "data": {
      "text/plain": [
       "67"
      ]
     },
     "execution_count": 27,
     "metadata": {},
     "output_type": "execute_result"
    }
   ],
   "source": [
    "top_cap = document.find_all('fin-streamer', {'class' : \"\", 'data-field' : \"marketCap\"})\n",
    "len(top_cap)"
   ]
  },
  {
   "cell_type": "code",
   "execution_count": 28,
   "id": "d2c037f4",
   "metadata": {},
   "outputs": [
    {
     "name": "stdout",
     "output_type": "stream",
     "text": [
      "['3.557B', '5.125B', '4.243B', '5.63B', '2.8B', '2.391B', '11.037B', '4.996B', '265.953B', '4.775B', '10.737B', '4.889B', '18.379B', '3.987B', '4.729B', '3.834B', '30.477B', '4.755B', '8.588B', '3.802B', '2.41B', '2.657B', '28.451B', '30.945B', '8.568B']\n"
     ]
    }
   ],
   "source": [
    "top_caps = []\n",
    "\n",
    "for cap in top_cap[:25]:\n",
    "    top_caps.append(cap.text)\n",
    "    \n",
    "print(top_caps)"
   ]
  },
  {
   "cell_type": "markdown",
   "id": "b314a7b9",
   "metadata": {},
   "source": [
    "### Summarizing the findings into a csv"
   ]
  },
  {
   "cell_type": "code",
   "execution_count": 29,
   "id": "653a87cf",
   "metadata": {},
   "outputs": [],
   "source": [
    "import pandas as pd"
   ]
  },
  {
   "cell_type": "code",
   "execution_count": 30,
   "id": "86af7305",
   "metadata": {},
   "outputs": [
    {
     "data": {
      "text/html": [
       "<div>\n",
       "<style scoped>\n",
       "    .dataframe tbody tr th:only-of-type {\n",
       "        vertical-align: middle;\n",
       "    }\n",
       "\n",
       "    .dataframe tbody tr th {\n",
       "        vertical-align: top;\n",
       "    }\n",
       "\n",
       "    .dataframe thead th {\n",
       "        text-align: right;\n",
       "    }\n",
       "</style>\n",
       "<table border=\"1\" class=\"dataframe\">\n",
       "  <thead>\n",
       "    <tr style=\"text-align: right;\">\n",
       "      <th></th>\n",
       "      <th>Stocks_Symbol</th>\n",
       "      <th>Stocks_Name</th>\n",
       "      <th>Stocks_Price</th>\n",
       "      <th>Stocks_Price_Change</th>\n",
       "      <th>Stocks_Percent_Change</th>\n",
       "      <th>Stocks_Volume</th>\n",
       "      <th>Stocks_Market_Capital</th>\n",
       "    </tr>\n",
       "  </thead>\n",
       "  <tbody>\n",
       "    <tr>\n",
       "      <th>0</th>\n",
       "      <td>NCNO</td>\n",
       "      <td>nCino, Inc.</td>\n",
       "      <td>31.69</td>\n",
       "      <td>+6.23</td>\n",
       "      <td>+24.47%</td>\n",
       "      <td>8.206M</td>\n",
       "      <td>3.557B</td>\n",
       "    </tr>\n",
       "    <tr>\n",
       "      <th>1</th>\n",
       "      <td>ABCM</td>\n",
       "      <td>Abcam plc</td>\n",
       "      <td>22.31</td>\n",
       "      <td>+3.25</td>\n",
       "      <td>+17.05%</td>\n",
       "      <td>4.762M</td>\n",
       "      <td>5.125B</td>\n",
       "    </tr>\n",
       "    <tr>\n",
       "      <th>2</th>\n",
       "      <td>SMSOF</td>\n",
       "      <td>Samsonite International S.A.</td>\n",
       "      <td>2.9400</td>\n",
       "      <td>+0.3400</td>\n",
       "      <td>+13.08%</td>\n",
       "      <td>17,100</td>\n",
       "      <td>4.243B</td>\n",
       "    </tr>\n",
       "    <tr>\n",
       "      <th>3</th>\n",
       "      <td>CHFLF</td>\n",
       "      <td>China Feihe Limited</td>\n",
       "      <td>0.6209</td>\n",
       "      <td>+0.0666</td>\n",
       "      <td>+12.03%</td>\n",
       "      <td>24,493</td>\n",
       "      <td>5.63B</td>\n",
       "    </tr>\n",
       "    <tr>\n",
       "      <th>4</th>\n",
       "      <td>ECX</td>\n",
       "      <td>ECARX Holdings Inc.</td>\n",
       "      <td>8.30</td>\n",
       "      <td>+0.87</td>\n",
       "      <td>+11.71%</td>\n",
       "      <td>499,944</td>\n",
       "      <td>2.8B</td>\n",
       "    </tr>\n",
       "    <tr>\n",
       "      <th>5</th>\n",
       "      <td>ENVX</td>\n",
       "      <td>Enovix Corporation</td>\n",
       "      <td>15.12</td>\n",
       "      <td>+1.49</td>\n",
       "      <td>+10.93%</td>\n",
       "      <td>19.342M</td>\n",
       "      <td>2.391B</td>\n",
       "    </tr>\n",
       "    <tr>\n",
       "      <th>6</th>\n",
       "      <td>XNYIF</td>\n",
       "      <td>Xinyi Solar Holdings Limited</td>\n",
       "      <td>1.2399</td>\n",
       "      <td>+0.1200</td>\n",
       "      <td>+10.72%</td>\n",
       "      <td>61,314</td>\n",
       "      <td>11.037B</td>\n",
       "    </tr>\n",
       "    <tr>\n",
       "      <th>7</th>\n",
       "      <td>OCDGF</td>\n",
       "      <td>Ocado Group plc</td>\n",
       "      <td>6.04</td>\n",
       "      <td>+0.49</td>\n",
       "      <td>+8.83%</td>\n",
       "      <td>67,404</td>\n",
       "      <td>4.996B</td>\n",
       "    </tr>\n",
       "    <tr>\n",
       "      <th>8</th>\n",
       "      <td>LTMAY</td>\n",
       "      <td>LATAM Airlines Group S.A.</td>\n",
       "      <td>0.4400</td>\n",
       "      <td>+0.0350</td>\n",
       "      <td>+8.64%</td>\n",
       "      <td>750,412</td>\n",
       "      <td>265.953B</td>\n",
       "    </tr>\n",
       "    <tr>\n",
       "      <th>9</th>\n",
       "      <td>LINRF</td>\n",
       "      <td>Liontown Resources Limited</td>\n",
       "      <td>2.1700</td>\n",
       "      <td>+0.1700</td>\n",
       "      <td>+8.50%</td>\n",
       "      <td>34,382</td>\n",
       "      <td>4.775B</td>\n",
       "    </tr>\n",
       "    <tr>\n",
       "      <th>10</th>\n",
       "      <td>YPF</td>\n",
       "      <td>YPF Sociedad Anónima</td>\n",
       "      <td>14.55</td>\n",
       "      <td>+1.10</td>\n",
       "      <td>+8.18%</td>\n",
       "      <td>4.698M</td>\n",
       "      <td>10.737B</td>\n",
       "    </tr>\n",
       "    <tr>\n",
       "      <th>11</th>\n",
       "      <td>OCDDY</td>\n",
       "      <td>Ocado Group plc</td>\n",
       "      <td>11.82</td>\n",
       "      <td>+0.85</td>\n",
       "      <td>+7.75%</td>\n",
       "      <td>47,157</td>\n",
       "      <td>4.889B</td>\n",
       "    </tr>\n",
       "    <tr>\n",
       "      <th>12</th>\n",
       "      <td>BALL</td>\n",
       "      <td>Ball Corporation</td>\n",
       "      <td>58.43</td>\n",
       "      <td>+3.94</td>\n",
       "      <td>+7.23%</td>\n",
       "      <td>11.573M</td>\n",
       "      <td>18.379B</td>\n",
       "    </tr>\n",
       "    <tr>\n",
       "      <th>13</th>\n",
       "      <td>WZZZY</td>\n",
       "      <td>Wizz Air Holdings Plc</td>\n",
       "      <td>9.65</td>\n",
       "      <td>+0.65</td>\n",
       "      <td>+7.22%</td>\n",
       "      <td>47,859</td>\n",
       "      <td>3.987B</td>\n",
       "    </tr>\n",
       "    <tr>\n",
       "      <th>14</th>\n",
       "      <td>PAM</td>\n",
       "      <td>Pampa Energía S.A.</td>\n",
       "      <td>40.91</td>\n",
       "      <td>+2.57</td>\n",
       "      <td>+6.70%</td>\n",
       "      <td>372,566</td>\n",
       "      <td>4.729B</td>\n",
       "    </tr>\n",
       "    <tr>\n",
       "      <th>15</th>\n",
       "      <td>TGS</td>\n",
       "      <td>Transportadora de Gas del Sur S.A.</td>\n",
       "      <td>13.32</td>\n",
       "      <td>+0.79</td>\n",
       "      <td>+6.30%</td>\n",
       "      <td>313,621</td>\n",
       "      <td>3.834B</td>\n",
       "    </tr>\n",
       "    <tr>\n",
       "      <th>16</th>\n",
       "      <td>GLW</td>\n",
       "      <td>Corning Incorporated</td>\n",
       "      <td>35.85</td>\n",
       "      <td>+2.01</td>\n",
       "      <td>+5.94%</td>\n",
       "      <td>21.263M</td>\n",
       "      <td>30.477B</td>\n",
       "    </tr>\n",
       "    <tr>\n",
       "      <th>17</th>\n",
       "      <td>GGAL</td>\n",
       "      <td>Grupo Financiero Galicia S.A.</td>\n",
       "      <td>16.87</td>\n",
       "      <td>+0.92</td>\n",
       "      <td>+5.73%</td>\n",
       "      <td>1.72M</td>\n",
       "      <td>4.755B</td>\n",
       "    </tr>\n",
       "    <tr>\n",
       "      <th>18</th>\n",
       "      <td>PSNYW</td>\n",
       "      <td>Polestar Automotive Holding UK PLC</td>\n",
       "      <td>0.7250</td>\n",
       "      <td>+0.0250</td>\n",
       "      <td>+3.57%</td>\n",
       "      <td>140,428</td>\n",
       "      <td>8.588B</td>\n",
       "    </tr>\n",
       "    <tr>\n",
       "      <th>19</th>\n",
       "      <td>MSTR</td>\n",
       "      <td>MicroStrategy Incorporated</td>\n",
       "      <td>293.39</td>\n",
       "      <td>+15.47</td>\n",
       "      <td>+5.57%</td>\n",
       "      <td>1.423M</td>\n",
       "      <td>3.802B</td>\n",
       "    </tr>\n",
       "    <tr>\n",
       "      <th>20</th>\n",
       "      <td>HCM</td>\n",
       "      <td>HUTCHMED (China) Limited</td>\n",
       "      <td>13.91</td>\n",
       "      <td>+0.71</td>\n",
       "      <td>+5.38%</td>\n",
       "      <td>237,646</td>\n",
       "      <td>2.41B</td>\n",
       "    </tr>\n",
       "    <tr>\n",
       "      <th>21</th>\n",
       "      <td>AMPH</td>\n",
       "      <td>Amphastar Pharmaceuticals, Inc.</td>\n",
       "      <td>55.03</td>\n",
       "      <td>+2.80</td>\n",
       "      <td>+5.36%</td>\n",
       "      <td>1.25M</td>\n",
       "      <td>2.657B</td>\n",
       "    </tr>\n",
       "    <tr>\n",
       "      <th>22</th>\n",
       "      <td>SYM</td>\n",
       "      <td>Symbotic Inc.</td>\n",
       "      <td>51.22</td>\n",
       "      <td>+2.58</td>\n",
       "      <td>+5.30%</td>\n",
       "      <td>1.931M</td>\n",
       "      <td>28.451B</td>\n",
       "    </tr>\n",
       "    <tr>\n",
       "      <th>23</th>\n",
       "      <td>SPOT</td>\n",
       "      <td>Spotify Technology S.A.</td>\n",
       "      <td>159.99</td>\n",
       "      <td>+7.81</td>\n",
       "      <td>+5.13%</td>\n",
       "      <td>3.533M</td>\n",
       "      <td>30.945B</td>\n",
       "    </tr>\n",
       "    <tr>\n",
       "      <th>24</th>\n",
       "      <td>STVN</td>\n",
       "      <td>Stevanato Group S.p.A.</td>\n",
       "      <td>32.37</td>\n",
       "      <td>+1.55</td>\n",
       "      <td>+5.03%</td>\n",
       "      <td>800,576</td>\n",
       "      <td>8.568B</td>\n",
       "    </tr>\n",
       "  </tbody>\n",
       "</table>\n",
       "</div>"
      ],
      "text/plain": [
       "   Stocks_Symbol                         Stocks_Name Stocks_Price  \\\n",
       "0           NCNO                         nCino, Inc.        31.69   \n",
       "1           ABCM                           Abcam plc        22.31   \n",
       "2          SMSOF        Samsonite International S.A.       2.9400   \n",
       "3          CHFLF                 China Feihe Limited       0.6209   \n",
       "4            ECX                 ECARX Holdings Inc.         8.30   \n",
       "5           ENVX                  Enovix Corporation        15.12   \n",
       "6          XNYIF        Xinyi Solar Holdings Limited       1.2399   \n",
       "7          OCDGF                     Ocado Group plc         6.04   \n",
       "8          LTMAY           LATAM Airlines Group S.A.       0.4400   \n",
       "9          LINRF          Liontown Resources Limited       2.1700   \n",
       "10           YPF                YPF Sociedad Anónima        14.55   \n",
       "11         OCDDY                     Ocado Group plc        11.82   \n",
       "12          BALL                    Ball Corporation        58.43   \n",
       "13         WZZZY               Wizz Air Holdings Plc         9.65   \n",
       "14           PAM                  Pampa Energía S.A.        40.91   \n",
       "15           TGS  Transportadora de Gas del Sur S.A.        13.32   \n",
       "16           GLW                Corning Incorporated        35.85   \n",
       "17          GGAL       Grupo Financiero Galicia S.A.        16.87   \n",
       "18         PSNYW  Polestar Automotive Holding UK PLC       0.7250   \n",
       "19          MSTR          MicroStrategy Incorporated       293.39   \n",
       "20           HCM            HUTCHMED (China) Limited        13.91   \n",
       "21          AMPH     Amphastar Pharmaceuticals, Inc.        55.03   \n",
       "22           SYM                       Symbotic Inc.        51.22   \n",
       "23          SPOT             Spotify Technology S.A.       159.99   \n",
       "24          STVN              Stevanato Group S.p.A.        32.37   \n",
       "\n",
       "   Stocks_Price_Change Stocks_Percent_Change Stocks_Volume  \\\n",
       "0                +6.23               +24.47%        8.206M   \n",
       "1                +3.25               +17.05%        4.762M   \n",
       "2              +0.3400               +13.08%        17,100   \n",
       "3              +0.0666               +12.03%        24,493   \n",
       "4                +0.87               +11.71%       499,944   \n",
       "5                +1.49               +10.93%       19.342M   \n",
       "6              +0.1200               +10.72%        61,314   \n",
       "7                +0.49                +8.83%        67,404   \n",
       "8              +0.0350                +8.64%       750,412   \n",
       "9              +0.1700                +8.50%        34,382   \n",
       "10               +1.10                +8.18%        4.698M   \n",
       "11               +0.85                +7.75%        47,157   \n",
       "12               +3.94                +7.23%       11.573M   \n",
       "13               +0.65                +7.22%        47,859   \n",
       "14               +2.57                +6.70%       372,566   \n",
       "15               +0.79                +6.30%       313,621   \n",
       "16               +2.01                +5.94%       21.263M   \n",
       "17               +0.92                +5.73%         1.72M   \n",
       "18             +0.0250                +3.57%       140,428   \n",
       "19              +15.47                +5.57%        1.423M   \n",
       "20               +0.71                +5.38%       237,646   \n",
       "21               +2.80                +5.36%         1.25M   \n",
       "22               +2.58                +5.30%        1.931M   \n",
       "23               +7.81                +5.13%        3.533M   \n",
       "24               +1.55                +5.03%       800,576   \n",
       "\n",
       "   Stocks_Market_Capital  \n",
       "0                 3.557B  \n",
       "1                 5.125B  \n",
       "2                 4.243B  \n",
       "3                  5.63B  \n",
       "4                   2.8B  \n",
       "5                 2.391B  \n",
       "6                11.037B  \n",
       "7                 4.996B  \n",
       "8               265.953B  \n",
       "9                 4.775B  \n",
       "10               10.737B  \n",
       "11                4.889B  \n",
       "12               18.379B  \n",
       "13                3.987B  \n",
       "14                4.729B  \n",
       "15                3.834B  \n",
       "16               30.477B  \n",
       "17                4.755B  \n",
       "18                8.588B  \n",
       "19                3.802B  \n",
       "20                 2.41B  \n",
       "21                2.657B  \n",
       "22               28.451B  \n",
       "23               30.945B  \n",
       "24                8.568B  "
      ]
     },
     "execution_count": 30,
     "metadata": {},
     "output_type": "execute_result"
    }
   ],
   "source": [
    "table_dict = {\n",
    "    'Stocks_Symbol': top_symbols,\n",
    "    'Stocks_Name' : top_name,\n",
    "    'Stocks_Price' : top_prices,\n",
    "    'Stocks_Price_Change' : top_pricechngs,\n",
    "    'Stocks_Percent_Change' : top_pricechngspp,\n",
    "    'Stocks_Volume' : top_vols,\n",
    "    'Stocks_Market_Capital' : top_caps\n",
    "}\n",
    "\n",
    "topics_df = pd.DataFrame(table_dict)\n",
    "topics_df"
   ]
  },
  {
   "cell_type": "code",
   "execution_count": 34,
   "id": "a97d8810",
   "metadata": {},
   "outputs": [],
   "source": [
    "topics_df.to_csv('Top_Gainer_Stocks.csv')"
   ]
  },
  {
   "cell_type": "code",
   "execution_count": null,
   "id": "fed84572",
   "metadata": {},
   "outputs": [],
   "source": []
  }
 ],
 "metadata": {
  "kernelspec": {
   "display_name": "Python 3",
   "language": "python",
   "name": "python3"
  },
  "language_info": {
   "codemirror_mode": {
    "name": "ipython",
    "version": 3
   },
   "file_extension": ".py",
   "mimetype": "text/x-python",
   "name": "python",
   "nbconvert_exporter": "python",
   "pygments_lexer": "ipython3",
   "version": "3.9.12"
  }
 },
 "nbformat": 4,
 "nbformat_minor": 5
}
